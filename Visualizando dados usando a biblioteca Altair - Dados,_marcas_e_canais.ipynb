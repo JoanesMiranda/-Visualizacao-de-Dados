{
 "cells": [
  {
   "cell_type": "markdown",
   "metadata": {
    "colab_type": "text",
    "id": "oXs7wu4VMiWB"
   },
   "source": [
    "# Visualizando dados usando a biblioteca Altair\n"
   ]
  },
  {
   "cell_type": "markdown",
   "metadata": {
    "colab_type": "text",
    "id": "8hlT6YmDNRtW"
   },
   "source": [
    "Antes de tudo, é necessário importar o Altair e o Pandas."
   ]
  },
  {
   "cell_type": "code",
   "execution_count": 2,
   "metadata": {
    "colab": {},
    "colab_type": "code",
    "id": "PjyEBsDgMgQo"
   },
   "outputs": [
    {
     "ename": "ModuleNotFoundError",
     "evalue": "No module named 'altair'",
     "output_type": "error",
     "traceback": [
      "\u001b[1;31m---------------------------------------------------------------------------\u001b[0m",
      "\u001b[1;31mModuleNotFoundError\u001b[0m                       Traceback (most recent call last)",
      "\u001b[1;32m<ipython-input-2-364103eee631>\u001b[0m in \u001b[0;36m<module>\u001b[1;34m\u001b[0m\n\u001b[1;32m----> 1\u001b[1;33m \u001b[1;32mimport\u001b[0m \u001b[0maltair\u001b[0m \u001b[1;32mas\u001b[0m \u001b[0malt\u001b[0m\u001b[1;33m\u001b[0m\u001b[1;33m\u001b[0m\u001b[0m\n\u001b[0m\u001b[0;32m      2\u001b[0m \u001b[1;32mimport\u001b[0m \u001b[0mpandas\u001b[0m \u001b[1;32mas\u001b[0m \u001b[0mpd\u001b[0m\u001b[1;33m\u001b[0m\u001b[1;33m\u001b[0m\u001b[0m\n",
      "\u001b[1;31mModuleNotFoundError\u001b[0m: No module named 'altair'"
     ]
    }
   ],
   "source": [
    "import altair as alt\n",
    "import pandas as pd"
   ]
  },
  {
   "cell_type": "markdown",
   "metadata": {
    "colab_type": "text",
    "id": "xM1n5qZCNgfl"
   },
   "source": [
    "Podemos ler dados no Altair de quatro tipos:\n",
    "* Pandas DataFrame\n",
    "* Dado ou objeto relacionado (por exemplo, uma URL)\n",
    "* Uma string apontando para um json ou csv\n",
    "* Um objeto que suporte __geo_interface__ (eg. Geopandas GeoDataFrame, Shapely Geometries, GeoJSON Objects)\n",
    "\n",
    "No caso abaixo, leremos um dataframe pandas."
   ]
  },
  {
   "cell_type": "code",
   "execution_count": null,
   "metadata": {
    "colab": {
     "base_uri": "https://localhost:8080/",
     "height": 366
    },
    "colab_type": "code",
    "id": "m_INmjPMNbzO",
    "outputId": "d0f8cecf-9c37-4d50-9f25-b81c75970619"
   },
   "outputs": [],
   "source": [
    "dado = pd.DataFrame({'x': ['A', 'B', 'C', 'D', 'E'],\n",
    "                     'y': [5, 3, 6, 7, 2], 'animal':['cavalo','cachorro','macaco','tigre','urso']})\n",
    "alt.Chart(dado).mark_bar().encode(\n",
    "    x='x',\n",
    "    y='y',\n",
    "    color = 'animal'\n",
    ")"
   ]
  },
  {
   "cell_type": "markdown",
   "metadata": {
    "colab_type": "text",
    "id": "t8iYMRnsRWdr"
   },
   "source": [
    "**Sua vez**: crie um dataset com duas variáveis numéricas para serem representadas por meio de um gráfico de pontos."
   ]
  },
  {
   "cell_type": "code",
   "execution_count": null,
   "metadata": {
    "colab": {
     "base_uri": "https://localhost:8080/",
     "height": 368
    },
    "colab_type": "code",
    "id": "qYFBShoIRtpc",
    "outputId": "2e03615a-ca65-4b6c-96ee-3ab3805aec66"
   },
   "outputs": [],
   "source": [
    "dado2 = pd.DataFrame({'x': [10, 20, 30, 40, 50],\n",
    "                     'y': [5, 3, 6, 7, 2]})\n",
    "alt.Chart(dado2).mark_point().encode(\n",
    "    x='x',\n",
    "    y='y'\n",
    ")"
   ]
  },
  {
   "cell_type": "markdown",
   "metadata": {
    "colab_type": "text",
    "id": "_RLmXSfuSVt1"
   },
   "source": [
    "Existem duas convenções comuns para o armazenamento de dados em um dataframe, às vezes chamado de forma *long* e de forma *wide*. Ambos são padrões para armazenar dados em um formato tabular; brevemente, a diferença é esta:\n",
    "\n",
    "* Os dados em formato *wide* têm uma linha por variável independente, com metadados gravados nos rótulos das linhas e colunas.\n",
    "* Os dados de forma *long* têm uma linha por observação, com metadados gravados dentro da tabela como valores.\n",
    "\n",
    "A gramática do Altair funciona melhor com dados de forma longa, em que cada linha corresponde a uma única observação junto com seus metadados.\n",
    "\n",
    "Um exemplo concreto ajudará a tornar esta distinção mais clara. Considere um conjunto de dados composto por preços de ações de várias empresas ao longo do tempo. A versão de forma ampla (wide) dos dados pode ser organizada da seguinte forma:"
   ]
  },
  {
   "cell_type": "code",
   "execution_count": null,
   "metadata": {
    "colab": {
     "base_uri": "https://localhost:8080/",
     "height": 85
    },
    "colab_type": "code",
    "id": "GZp_3T8GR_PY",
    "outputId": "61675ce5-2f87-4413-c59e-92853ee9df99"
   },
   "outputs": [],
   "source": [
    "wide = pd.DataFrame({'data': ['2007-10-01', '2007-11-01', '2007-12-01'],\n",
    "                          'AAPL': [189.95, 182.22, 198.08],\n",
    "                          'AMZN': [89.15, 90.56, 92.64],\n",
    "                          'GOOG': [707.00, 693.00, 691.48]})\n",
    "print(wide)"
   ]
  },
  {
   "cell_type": "markdown",
   "metadata": {
    "colab_type": "text",
    "id": "ogrWFnM6TXce"
   },
   "source": [
    "Já a versão longa se parece com isso:"
   ]
  },
  {
   "cell_type": "code",
   "execution_count": null,
   "metadata": {
    "colab": {
     "base_uri": "https://localhost:8080/",
     "height": 187
    },
    "colab_type": "code",
    "id": "T7cnmlAER3L7",
    "outputId": "dc6312a5-e0fa-4820-b3b0-1cbe453a17ab"
   },
   "outputs": [],
   "source": [
    "long = pd.DataFrame({'data': ['2007-10-01', '2007-11-01', '2007-12-01',\n",
    "                                   '2007-10-01', '2007-11-01', '2007-12-01',\n",
    "                                   '2007-10-01', '2007-11-01', '2007-12-01'],\n",
    "                          'empresa': ['AAPL', 'AAPL', 'AAPL',\n",
    "                                      'AMZN', 'AMZN', 'AMZN',\n",
    "                                      'GOOG', 'GOOG', 'GOOG'],\n",
    "                          'valor': [189.95, 182.22, 198.08,\n",
    "                                     89.15,  90.56,  92.64,\n",
    "                                    707.00, 693.00, 691.48]})\n",
    "print(long)"
   ]
  },
  {
   "cell_type": "markdown",
   "metadata": {
    "colab_type": "text",
    "id": "F_NYePndTsa4"
   },
   "source": [
    "Como mencionado acima, o Altair funciona melhor com estes dados de forma longa, porque os dados e metadados relevantes são armazenados dentro da própria tabela, e não dentro das etiquetas das linhas e colunas:"
   ]
  },
  {
   "cell_type": "code",
   "execution_count": null,
   "metadata": {
    "colab": {
     "base_uri": "https://localhost:8080/",
     "height": 368
    },
    "colab_type": "code",
    "id": "Zgd7X2z5Tw6S",
    "outputId": "098a3884-a1c6-46ce-c1f6-1e74445c401f"
   },
   "outputs": [],
   "source": [
    "alt.Chart(long).mark_line().encode(\n",
    "  x='data:T',\n",
    "  y='valor:Q',\n",
    "  color='empresa:N'\n",
    ")"
   ]
  },
  {
   "cell_type": "markdown",
   "metadata": {
    "colab_type": "text",
    "id": "YSqQwPtXUGbN"
   },
   "source": [
    "## Convertendo do formato wide para o long"
   ]
  },
  {
   "cell_type": "markdown",
   "metadata": {
    "colab_type": "text",
    "id": "4owLLS9QUKpM"
   },
   "source": [
    "Podemos converter de wide para long com o Pandas!\n",
    "\n"
   ]
  },
  {
   "cell_type": "code",
   "execution_count": null,
   "metadata": {
    "colab": {
     "base_uri": "https://localhost:8080/",
     "height": 328
    },
    "colab_type": "code",
    "id": "xKEcuk7LUJzW",
    "outputId": "99e61f05-c2ed-4233-d9e6-0452badcbfb3"
   },
   "outputs": [],
   "source": [
    "wide.melt('data', var_name='empresa', value_name='valor')"
   ]
  },
  {
   "cell_type": "markdown",
   "metadata": {
    "colab_type": "text",
    "id": "E4Ym7H_WUfx3"
   },
   "source": [
    "# Marcas"
   ]
  },
  {
   "cell_type": "markdown",
   "metadata": {
    "colab_type": "text",
    "id": "voSDmr7LU6mQ"
   },
   "source": [
    "Você pode obter mais informações sobre marcas na [documentação do Altair](https://altair-viz.github.io/user_guide/marks.html)."
   ]
  },
  {
   "cell_type": "markdown",
   "metadata": {
    "colab_type": "text",
    "id": "5ji5e3ldWDnH"
   },
   "source": [
    "Em Altair, existem vários tipos de marcas. As marcas area, bar, circle, point, line, text e geoshape são as mais comuns.\n",
    "\n",
    "Para definir uma marca, basta colocar mark_\\*, onde \\* significa o tipo da marca."
   ]
  },
  {
   "cell_type": "code",
   "execution_count": null,
   "metadata": {
    "colab": {
     "base_uri": "https://localhost:8080/",
     "height": 368
    },
    "colab_type": "code",
    "id": "ELsWOB_wWkRB",
    "outputId": "6736d59a-65e7-46dd-b08d-caa792aea306"
   },
   "outputs": [],
   "source": [
    "from vega_datasets import data\n",
    "\n",
    "url = data.cars.url\n",
    "\n",
    "alt.Chart(url).mark_circle(\n",
    "    color='red',\n",
    "    opacity=0.3\n",
    ").encode(\n",
    "    x='Horsepower:Q',\n",
    "    y='Miles_per_Gallon:Q'\n",
    ")"
   ]
  },
  {
   "cell_type": "code",
   "execution_count": null,
   "metadata": {
    "colab": {
     "base_uri": "https://localhost:8080/",
     "height": 368
    },
    "colab_type": "code",
    "id": "fWoJTgMb79NB",
    "outputId": "4b2b5404-8298-491d-f60d-dac0a111943d"
   },
   "outputs": [],
   "source": [
    "from vega_datasets import data\n",
    "\n",
    "url = data.cars.url\n",
    "\n",
    "alt.Chart(url).mark_point(\n",
    "    color='blue',\n",
    "    opacity=0.3\n",
    ").encode(\n",
    "    x='Horsepower:Q',\n",
    "    y='Miles_per_Gallon:Q'\n",
    ")"
   ]
  },
  {
   "cell_type": "markdown",
   "metadata": {
    "colab_type": "text",
    "id": "RmvY5MAqXOh3"
   },
   "source": [
    "Marcas possuem propriedades (como a cor e a opacidade na figura anterior). Você pode mudar essas propriedades ao definir a marca.\n",
    "\n",
    "**Sua vez**: modifique o gráfico a seguir. Mude a cor, opacidade e tamanho da marca."
   ]
  },
  {
   "cell_type": "code",
   "execution_count": null,
   "metadata": {
    "colab": {
     "base_uri": "https://localhost:8080/",
     "height": 368
    },
    "colab_type": "code",
    "id": "QCF_uulAXt8s",
    "outputId": "df3b6207-6846-45a4-8ecf-92c1b8b86f58"
   },
   "outputs": [],
   "source": [
    "url = data.cars.url\n",
    "\n",
    "alt.Chart(url).mark_circle(\n",
    "    color='red',\n",
    "    opacity=0.3\n",
    ").encode(\n",
    "    x='Horsepower:Q',\n",
    "    y='Miles_per_Gallon:Q'\n",
    ")"
   ]
  },
  {
   "cell_type": "code",
   "execution_count": null,
   "metadata": {
    "colab": {
     "base_uri": "https://localhost:8080/",
     "height": 568
    },
    "colab_type": "code",
    "id": "sS9_BJ4l8vuR",
    "outputId": "5981b60c-b530-427b-9596-c36a08c5a452"
   },
   "outputs": [],
   "source": [
    "url = data.cars.url\n",
    "\n",
    "alt.Chart(url).mark_circle(\n",
    "    color='blue',\n",
    "    opacity=0.8,\n",
    ").encode(\n",
    "    x='Horsepower:Q',\n",
    "    y='Miles_per_Gallon:Q'\n",
    ").properties(\n",
    "    width=500,\n",
    "    height=500\n",
    ")"
   ]
  },
  {
   "cell_type": "markdown",
   "metadata": {
    "colab_type": "text",
    "id": "SwwaRHaIYNi0"
   },
   "source": [
    "Que tal criar um gráfico de barras com a variável `Origin`?"
   ]
  },
  {
   "cell_type": "code",
   "execution_count": null,
   "metadata": {
    "colab": {
     "base_uri": "https://localhost:8080/",
     "height": 204
    },
    "colab_type": "code",
    "id": "fjTGMv7KYYeO",
    "outputId": "db67d41a-d066-4010-fa9b-236934617135"
   },
   "outputs": [],
   "source": [
    "cars = pd.read_json(url)\n",
    "cars.head() # Exclua isso depois que entender os dados\n",
    "\n",
    "# crie o gráfico de barras para contar quantos modelos de carros foram construídos em cada país"
   ]
  },
  {
   "cell_type": "code",
   "execution_count": null,
   "metadata": {
    "colab": {
     "base_uri": "https://localhost:8080/",
     "height": 34
    },
    "colab_type": "code",
    "id": "owUaLbLJ8_06",
    "outputId": "c4073b47-86b1-42d4-eade-23d1ec101a1f"
   },
   "outputs": [],
   "source": [
    "cars['Origin'].unique()"
   ]
  },
  {
   "cell_type": "code",
   "execution_count": null,
   "metadata": {
    "colab": {
     "base_uri": "https://localhost:8080/",
     "height": 386
    },
    "colab_type": "code",
    "id": "MnsytyPZAUCD",
    "outputId": "7bd3daec-c80f-499b-d738-fea3c739402b"
   },
   "outputs": [],
   "source": [
    "alt.Chart(cars).mark_bar().encode(\n",
    "    x='Origin',\n",
    "    y='count()',\n",
    "    color='Origin'\n",
    ")"
   ]
  },
  {
   "cell_type": "markdown",
   "metadata": {
    "colab_type": "text",
    "id": "vc8tQDZ4UtpV"
   },
   "source": [
    "# Canais"
   ]
  },
  {
   "cell_type": "markdown",
   "metadata": {
    "colab_type": "text",
    "id": "gSrcI9tAZKqc"
   },
   "source": [
    "Você pode obter mais informações sobre canais na [documentação do Altair](https://altair-viz.github.io/user_guide/encoding.html))."
   ]
  },
  {
   "cell_type": "markdown",
   "metadata": {
    "colab_type": "text",
    "id": "JukxG8PZZc0e"
   },
   "source": [
    "Para manipular canais em Altair, usamos o método `encode`.\n",
    "\n"
   ]
  },
  {
   "cell_type": "code",
   "execution_count": null,
   "metadata": {
    "colab": {
     "base_uri": "https://localhost:8080/",
     "height": 368
    },
    "colab_type": "code",
    "id": "YjleKW17UU7A",
    "outputId": "50030e59-e4ad-41d5-e560-ab05399ac3d4"
   },
   "outputs": [],
   "source": [
    "cars = data.cars()\n",
    "\n",
    "alt.Chart(cars).mark_point().encode(\n",
    "    x='Horsepower',\n",
    "    y='Miles_per_Gallon',\n",
    "    color='Origin',\n",
    "    shape='Origin'\n",
    ")"
   ]
  },
  {
   "cell_type": "markdown",
   "metadata": {
    "colab_type": "text",
    "id": "4CDBLAEoelsU"
   },
   "source": [
    "Como já vimos em aulas anteriores, os canais mais básicos são cor (color), posição (x e y), forma (shape) e tamanho (size). Todos esses canais estão disponíveis no Altair."
   ]
  },
  {
   "cell_type": "markdown",
   "metadata": {
    "colab_type": "text",
    "id": "k11MrvD2fe4O"
   },
   "source": [
    "## Cor e tipos de dado"
   ]
  },
  {
   "cell_type": "markdown",
   "metadata": {
    "colab_type": "text",
    "id": "0ByabJKcfizD"
   },
   "source": [
    "O Altair muda de tom para brilho/saturação quando mudamos o tipo do dado de (n)ominal para (o)rdinal. Por isso é importante sempre deixar explícito o tipo de cada variável."
   ]
  },
  {
   "cell_type": "code",
   "execution_count": null,
   "metadata": {
    "colab": {
     "base_uri": "https://localhost:8080/",
     "height": 689
    },
    "colab_type": "code",
    "id": "ckEttgiPgUhg",
    "outputId": "dfb816d7-a078-4290-d909-69896b0d9df6"
   },
   "outputs": [],
   "source": [
    "base = alt.Chart(cars).mark_point().encode(\n",
    "    x='Horsepower:Q',\n",
    "    y='Miles_per_Gallon:Q',\n",
    ").properties(\n",
    "    width=150,\n",
    "    height=150\n",
    ")\n",
    "\n",
    "alt.vconcat(\n",
    "   base.encode(color='Cylinders:Q').properties(title='quantitative'),\n",
    "   base.encode(color='Cylinders:O').properties(title='ordinal'),\n",
    "   base.encode(color='Cylinders:N').properties(title='nominal'),\n",
    ")"
   ]
  },
  {
   "cell_type": "markdown",
   "metadata": {
    "colab_type": "text",
    "id": "7Fm8RlV4hMA5"
   },
   "source": [
    "**Sua vez**: coloque o canal de cor correto no gráfico abaixo."
   ]
  },
  {
   "cell_type": "code",
   "execution_count": null,
   "metadata": {
    "colab": {
     "base_uri": "https://localhost:8080/",
     "height": 368
    },
    "colab_type": "code",
    "id": "uvfDHzqKfeY6",
    "outputId": "34871bb4-bbc6-4e82-d7bb-8879e062a88d"
   },
   "outputs": [],
   "source": [
    "alt.Chart(cars).mark_circle().encode(\n",
    "    x = \"Year:T\",\n",
    "    y = \"Miles_per_Gallon:Q\",\n",
    "    color = \"Horsepower:Q\"\n",
    ")"
   ]
  },
  {
   "cell_type": "code",
   "execution_count": null,
   "metadata": {
    "colab": {
     "base_uri": "https://localhost:8080/",
     "height": 204
    },
    "colab_type": "code",
    "id": "g6CLlyYyh7vT",
    "outputId": "c354c46d-f7f8-4fca-ab5e-8206c642dcba"
   },
   "outputs": [],
   "source": [
    "cars.head()"
   ]
  },
  {
   "cell_type": "markdown",
   "metadata": {
    "colab_type": "text",
    "id": "I8vNOrjkgRdx"
   },
   "source": [
    "**Sua vez**:\n",
    "Queremos saber se existe diferença no consumo de modelos de carro de regiões diferentes. Isso mudou ao longo do tempo?\n",
    "\n"
   ]
  },
  {
   "cell_type": "code",
   "execution_count": null,
   "metadata": {
    "colab": {
     "base_uri": "https://localhost:8080/",
     "height": 668
    },
    "colab_type": "code",
    "id": "zRqDcs_CS5F1",
    "outputId": "d7ee31a5-49bb-4db5-8ce9-44e4863cd2f6"
   },
   "outputs": [],
   "source": [
    "alt.Chart(cars).mark_point().encode(\n",
    "    x = \"Year:T\",\n",
    "    y = \"mean(Miles_per_Gallon):Q\",\n",
    "    color = \"Name:N\",\n",
    "    shape='Origin:N'\n",
    ").properties(\n",
    "    width=600,\n",
    "    height=600\n",
    ")"
   ]
  },
  {
   "cell_type": "markdown",
   "metadata": {
    "colab_type": "text",
    "id": "z4mI3R3Nj-fg"
   },
   "source": [
    "**Sua vez**:  Se existir diferença de consumo entre modelos de origens diferentes, alguma das outras variáveis pode explicar isso?"
   ]
  },
  {
   "cell_type": "code",
   "execution_count": null,
   "metadata": {
    "colab": {
     "base_uri": "https://localhost:8080/",
     "height": 529
    },
    "colab_type": "code",
    "id": "UuiIVry8eZ5J",
    "outputId": "7c22f9e7-58cc-40ae-cf07-90b06f42e9ec"
   },
   "outputs": [],
   "source": [
    "alt.Chart(cars).mark_point().encode(\n",
    "    x = \"Origin:N\",\n",
    "    y = \"Miles_per_Gallon:Q\",\n",
    "    color = \"Name:N\"\n",
    ")"
   ]
  },
  {
   "cell_type": "code",
   "execution_count": null,
   "metadata": {
    "colab": {
     "base_uri": "https://localhost:8080/",
     "height": 596
    },
    "colab_type": "code",
    "id": "wx2ldq6yIlHJ",
    "outputId": "6ef41e1d-9683-49f1-e249-eab6c63beea9"
   },
   "outputs": [],
   "source": [
    "alt.Chart(cars).mark_point().encode(\n",
    "    x = \"Horsepower:Q\",\n",
    "    y = \"Miles_per_Gallon:Q\",\n",
    "    color = \"Name:N\",\n",
    "     shape='Origin:N'\n",
    ")"
   ]
  }
 ],
 "metadata": {
  "colab": {
   "collapsed_sections": [],
   "name": "Aula visualização de Dados, atividade 1 - Sabado 13/03/2020: Dados, marcas e canais.ipynb",
   "provenance": []
  },
  "kernelspec": {
   "display_name": "Python 3",
   "language": "python",
   "name": "python3"
  },
  "language_info": {
   "codemirror_mode": {
    "name": "ipython",
    "version": 3
   },
   "file_extension": ".py",
   "mimetype": "text/x-python",
   "name": "python",
   "nbconvert_exporter": "python",
   "pygments_lexer": "ipython3",
   "version": "3.7.4"
  }
 },
 "nbformat": 4,
 "nbformat_minor": 1
}
